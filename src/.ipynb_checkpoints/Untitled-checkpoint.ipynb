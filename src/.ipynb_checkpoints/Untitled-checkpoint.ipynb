{
 "cells": [
  {
   "cell_type": "code",
   "execution_count": 3,
   "id": "b01bab9b",
   "metadata": {},
   "outputs": [
    {
     "name": "stdout",
     "output_type": "stream",
     "text": [
      "['../input/train/9.json', '../input/train/16.json', '../input/train/28.json', '../input/train/11.json', '../input/train/4.json', '../input/train/24.json', '../input/train/25.json', '../input/train/1.json', '../input/train/17.json', '../input/train/2.json', '../input/train/10.json', '../input/train/29.json', '../input/train/26.json', '../input/train/5.json', '../input/train/8.json', '../input/train/0.json', '../input/train/22.json', '../input/train/27.json', '../input/train/7.json', '../input/train/14.json', '../input/train/20.json', '../input/train/23.json', '../input/train/12.json', '../input/train/3.json', '../input/train/15.json', '../input/train/19.json', '../input/train/13.json', '../input/train/21.json', '../input/train/18.json', '../input/train/6.json']\n"
     ]
    }
   ],
   "source": [
    "import glob \n",
    "print(glob.glob(\"../input/train/*.json\"))"
   ]
  },
  {
   "cell_type": "code",
   "execution_count": 1,
   "id": "2e7b04e0",
   "metadata": {
    "scrolled": true
   },
   "outputs": [
    {
     "name": "stdout",
     "output_type": "stream",
     "text": [
      "+---------------------------+---------------------------------+\n",
      "|        Batch size         |               32                |\n",
      "+===========================+=================================+\n",
      "| Capsule dimensions        | 8                               |\n",
      "+---------------------------+---------------------------------+\n",
      "| Epochs                    | 200                             |\n",
      "+---------------------------+---------------------------------+\n",
      "| Gcn filters               | 10                              |\n",
      "+---------------------------+---------------------------------+\n",
      "| Gcn layers                | 2                               |\n",
      "+---------------------------+---------------------------------+\n",
      "| Inner attention dimension | 20                              |\n",
      "+---------------------------+---------------------------------+\n",
      "| Lambd                     | 0.500                           |\n",
      "+---------------------------+---------------------------------+\n",
      "| Learning rate             | 0.010                           |\n",
      "+---------------------------+---------------------------------+\n",
      "| Number of capsules        | 8                               |\n",
      "+---------------------------+---------------------------------+\n",
      "| Prediction path           | ../output/watts_predictions.csv |\n",
      "+---------------------------+---------------------------------+\n",
      "| Test graph folder         | ../input/test/                  |\n",
      "+---------------------------+---------------------------------+\n",
      "| Theta                     | 0.100                           |\n",
      "+---------------------------+---------------------------------+\n",
      "| Train graph folder        | ../input/train/                 |\n",
      "+---------------------------+---------------------------------+\n",
      "| Weight decay              | 0.000                           |\n",
      "+---------------------------+---------------------------------+\n",
      "\n",
      "Enumerating feature and target values.\n",
      "\n",
      "100%|██████████████████████████████████████████| 60/60 [00:00<00:00, 667.49it/s]\n",
      "\n",
      "Training started.\n",
      "\n",
      "Epochs:   0%|                                           | 0/200 [00:00<?, ?it/s]\n",
      "Loss:   0%|                                               | 0/1 [00:00<?, ?it/s]\u001b[A\n",
      "CapsGNN (Loss=3.028):   0%|                               | 0/1 [00:00<?, ?it/s]\u001b[A\n",
      "CapsGNN (Loss=3.028): 100%|███████████████████████| 1/1 [00:00<00:00,  1.82it/s]\u001b[A\n",
      "Epochs:   0%|▏                                  | 1/200 [00:00<01:49,  1.82it/s]\n",
      "Loss:   0%|                                               | 0/1 [00:00<?, ?it/s]\u001b[A\n",
      "CapsGNN (Loss=3.0179):   0%|                              | 0/1 [00:00<?, ?it/s]\u001b[A\n",
      "CapsGNN (Loss=3.0179): 100%|██████████████████████| 1/1 [00:00<00:00,  2.37it/s]\u001b[A\n",
      "Epochs:   1%|▎                                  | 2/200 [00:00<01:33,  2.11it/s]\n",
      "Loss:   0%|                                               | 0/1 [00:00<?, ?it/s]\u001b[A\n",
      "CapsGNN (Loss=3.0082):   0%|                              | 0/1 [00:00<?, ?it/s]\u001b[A\n",
      "CapsGNN (Loss=3.0082): 100%|██████████████████████| 1/1 [00:00<00:00,  2.38it/s]\u001b[A\n",
      "Epochs:   2%|▌                                  | 3/200 [00:01<01:28,  2.22it/s]\n",
      "Loss:   0%|                                               | 0/1 [00:00<?, ?it/s]\u001b[A\n",
      "CapsGNN (Loss=2.9976):   0%|                              | 0/1 [00:00<?, ?it/s]\u001b[A\n",
      "CapsGNN (Loss=2.9976): 100%|██████████████████████| 1/1 [00:00<00:00,  2.39it/s]\u001b[A\n",
      "Epochs:   2%|▋                                  | 4/200 [00:01<01:25,  2.29it/s]\n",
      "Loss:   0%|                                               | 0/1 [00:00<?, ?it/s]\u001b[A\n",
      "CapsGNN (Loss=2.9851):   0%|                              | 0/1 [00:00<?, ?it/s]\u001b[A\n",
      "CapsGNN (Loss=2.9851): 100%|██████████████████████| 1/1 [00:00<00:00,  2.31it/s]\u001b[A\n",
      "Epochs:   2%|▉                                  | 5/200 [00:02<01:24,  2.29it/s]\n",
      "Loss:   0%|                                               | 0/1 [00:00<?, ?it/s]\u001b[A\n",
      "CapsGNN (Loss=2.9702):   0%|                              | 0/1 [00:00<?, ?it/s]\u001b[A\n",
      "CapsGNN (Loss=2.9702): 100%|██████████████████████| 1/1 [00:00<00:00,  2.40it/s]\u001b[A\n",
      "Epochs:   3%|█                                  | 6/200 [00:02<01:23,  2.33it/s]\n",
      "Loss:   0%|                                               | 0/1 [00:00<?, ?it/s]\u001b[A\n",
      "CapsGNN (Loss=2.952):   0%|                               | 0/1 [00:00<?, ?it/s]\u001b[A\n",
      "CapsGNN (Loss=2.952): 100%|███████████████████████| 1/1 [00:00<00:00,  2.38it/s]\u001b[A\n",
      "Epochs:   4%|█▏                                 | 7/200 [00:03<01:22,  2.34it/s]\n",
      "Loss:   0%|                                               | 0/1 [00:00<?, ?it/s]\u001b[A\n",
      "CapsGNN (Loss=2.9301):   0%|                              | 0/1 [00:00<?, ?it/s]\u001b[A\n",
      "CapsGNN (Loss=2.9301): 100%|██████████████████████| 1/1 [00:00<00:00,  2.41it/s]\u001b[A\n",
      "Epochs:   4%|█▍                                 | 8/200 [00:03<01:21,  2.36it/s]\n",
      "Loss:   0%|                                               | 0/1 [00:00<?, ?it/s]\u001b[A\n",
      "CapsGNN (Loss=2.904):   0%|                               | 0/1 [00:00<?, ?it/s]\u001b[A\n",
      "CapsGNN (Loss=2.904): 100%|███████████████████████| 1/1 [00:00<00:00,  2.40it/s]\u001b[A\n",
      "Epochs:   4%|█▌                                 | 9/200 [00:03<01:20,  2.37it/s]\n",
      "Loss:   0%|                                               | 0/1 [00:00<?, ?it/s]\u001b[A\n",
      "CapsGNN (Loss=2.8741):   0%|                              | 0/1 [00:00<?, ?it/s]\u001b[A\n",
      "CapsGNN (Loss=2.8741): 100%|██████████████████████| 1/1 [00:00<00:00,  2.40it/s]\u001b[A\n",
      "Epochs:   5%|█▋                                | 10/200 [00:04<01:19,  2.38it/s]\n",
      "Loss:   0%|                                               | 0/1 [00:00<?, ?it/s]\u001b[A\n",
      "CapsGNN (Loss=2.8415):   0%|                              | 0/1 [00:00<?, ?it/s]\u001b[A\n",
      "CapsGNN (Loss=2.8415): 100%|██████████████████████| 1/1 [00:00<00:00,  2.39it/s]\u001b[A\n",
      "Epochs:   6%|█▊                                | 11/200 [00:04<01:19,  2.38it/s]\n",
      "Loss:   0%|                                               | 0/1 [00:00<?, ?it/s]\u001b[A\n",
      "CapsGNN (Loss=2.809):   0%|                               | 0/1 [00:00<?, ?it/s]\u001b[A\n",
      "CapsGNN (Loss=2.809): 100%|███████████████████████| 1/1 [00:00<00:00,  2.27it/s]\u001b[A\n",
      "Epochs:   6%|██                                | 12/200 [00:05<01:20,  2.35it/s]\n",
      "Loss:   0%|                                               | 0/1 [00:00<?, ?it/s]\u001b[A\n",
      "CapsGNN (Loss=2.78):   0%|                                | 0/1 [00:00<?, ?it/s]\u001b[A\n",
      "CapsGNN (Loss=2.78): 100%|████████████████████████| 1/1 [00:00<00:00,  2.32it/s]\u001b[A\n",
      "Epochs:   6%|██▏                               | 13/200 [00:05<01:20,  2.34it/s]\n",
      "Loss:   0%|                                               | 0/1 [00:00<?, ?it/s]\u001b[A\n",
      "CapsGNN (Loss=2.757):   0%|                               | 0/1 [00:00<?, ?it/s]\u001b[A\n",
      "CapsGNN (Loss=2.757): 100%|███████████████████████| 1/1 [00:00<00:00,  2.32it/s]\u001b[A\n",
      "Epochs:   7%|██▍                               | 14/200 [00:06<01:19,  2.33it/s]\n",
      "Loss:   0%|                                               | 0/1 [00:00<?, ?it/s]\u001b[A\n",
      "CapsGNN (Loss=2.7406):   0%|                              | 0/1 [00:00<?, ?it/s]\u001b[A\n",
      "CapsGNN (Loss=2.7406): 100%|██████████████████████| 1/1 [00:00<00:00,  2.34it/s]\u001b[A\n",
      "Epochs:   8%|██▌                               | 15/200 [00:06<01:19,  2.33it/s]\n",
      "Loss:   0%|                                               | 0/1 [00:00<?, ?it/s]\u001b[A^C\n",
      "Loss:   0%|                                               | 0/1 [00:00<?, ?it/s]\n",
      "Epochs:   8%|██▌                               | 15/200 [00:06<01:26,  2.15it/s]\n",
      "Traceback (most recent call last):\n",
      "  File \"/mnt/beegfs/projects/parkinson_gait/M2_DS_22_23/CapsGNN/src/main.py\", line 19, in <module>\n",
      "    main()\n",
      "  File \"/mnt/beegfs/projects/parkinson_gait/M2_DS_22_23/CapsGNN/src/main.py\", line 14, in main\n",
      "    model.fit()\n",
      "  File \"/mnt/beegfs/projects/parkinson_gait/M2_DS_22_23/CapsGNN/src/capsgnn.py\", line 300, in fit\n",
      "    accumulated_losses.backward()\n",
      "  File \"/mnt/beegfs/home/salembien/miniconda3/envs/notebook/lib/python3.10/site-packages/torch/_tensor.py\", line 487, in backward\n",
      "    torch.autograd.backward(\n",
      "  File \"/mnt/beegfs/home/salembien/miniconda3/envs/notebook/lib/python3.10/site-packages/torch/autograd/__init__.py\", line 197, in backward\n",
      "    Variable._execution_engine.run_backward(  # Calls into the C++ engine to run the backward pass\n",
      "KeyboardInterrupt\n"
     ]
    }
   ],
   "source": [
    "!python main.py --train-graph-folder ../input/train/ --test-graph-folder ../input/test/ --prediction-path ../output/watts_predictions.csv --epochs 200 --gcn-filters 10 --gcn-layers 2"
   ]
  },
  {
   "cell_type": "code",
   "execution_count": null,
   "id": "6ea49e59",
   "metadata": {},
   "outputs": [],
   "source": []
  }
 ],
 "metadata": {
  "kernelspec": {
   "display_name": "Python 3 (ipykernel)",
   "language": "python",
   "name": "python3"
  },
  "language_info": {
   "codemirror_mode": {
    "name": "ipython",
    "version": 3
   },
   "file_extension": ".py",
   "mimetype": "text/x-python",
   "name": "python",
   "nbconvert_exporter": "python",
   "pygments_lexer": "ipython3",
   "version": "3.10.8"
  }
 },
 "nbformat": 4,
 "nbformat_minor": 5
}
