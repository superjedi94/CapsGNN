{
 "cells": [
  {
   "cell_type": "code",
   "execution_count": 3,
   "id": "b01bab9b",
   "metadata": {},
   "outputs": [
    {
     "name": "stdout",
     "output_type": "stream",
     "text": [
      "['../input/train/9.json', '../input/train/16.json', '../input/train/28.json', '../input/train/11.json', '../input/train/4.json', '../input/train/24.json', '../input/train/25.json', '../input/train/1.json', '../input/train/17.json', '../input/train/2.json', '../input/train/10.json', '../input/train/29.json', '../input/train/26.json', '../input/train/5.json', '../input/train/8.json', '../input/train/0.json', '../input/train/22.json', '../input/train/27.json', '../input/train/7.json', '../input/train/14.json', '../input/train/20.json', '../input/train/23.json', '../input/train/12.json', '../input/train/3.json', '../input/train/15.json', '../input/train/19.json', '../input/train/13.json', '../input/train/21.json', '../input/train/18.json', '../input/train/6.json']\n"
     ]
    }
   ],
   "source": [
    "import glob \n",
    "print(glob.glob(\"../input/train/*.json\"))"
   ]
  },
  {
   "cell_type": "code",
   "execution_count": 71,
   "id": "2e7b04e0",
   "metadata": {
    "scrolled": true
   },
   "outputs": [
    {
     "name": "stdout",
     "output_type": "stream",
     "text": [
      "+---------------------------+---------------------------+\n",
      "|        Batch size         |            32             |\n",
      "+===========================+===========================+\n",
      "| Capsule dimensions        | 8                         |\n",
      "+---------------------------+---------------------------+\n",
      "| Device                    | 0                         |\n",
      "+---------------------------+---------------------------+\n",
      "| Epochs                    | 1                         |\n",
      "+---------------------------+---------------------------+\n",
      "| Gcn filters               | 2                         |\n",
      "+---------------------------+---------------------------+\n",
      "| Gcn layers                | 5                         |\n",
      "+---------------------------+---------------------------+\n",
      "| Inner attention dimension | 20                        |\n",
      "+---------------------------+---------------------------+\n",
      "| Lambd                     | 0.500                     |\n",
      "+---------------------------+---------------------------+\n",
      "| Learning rate             | 0.010                     |\n",
      "+---------------------------+---------------------------+\n",
      "| Number of capsules        | 8                         |\n",
      "+---------------------------+---------------------------+\n",
      "| Prediction path           | ../output/out_enzymes.csv |\n",
      "+---------------------------+---------------------------+\n",
      "| Test graph folder         | ../input_enzymes/test/    |\n",
      "+---------------------------+---------------------------+\n",
      "| Theta                     | 0.100                     |\n",
      "+---------------------------+---------------------------+\n",
      "| Train graph folder        | ../input_enzymes/train/   |\n",
      "+---------------------------+---------------------------+\n",
      "| Weight decay              | 0.000                     |\n",
      "+---------------------------+---------------------------+\n",
      "\n",
      "Enumerating feature and target values.\n",
      "\n",
      "100%|████████████████████████████████████████| 600/600 [00:00<00:00, 675.08it/s]\n",
      "\n",
      "Training started.\n",
      "\n",
      "Epochs:   0%|                                             | 0/1 [00:00<?, ?it/s]\n",
      "Loss:   0%|                                              | 0/15 [00:00<?, ?it/s]\u001b[A\n",
      "CapsGNN (Loss=3.9943):   0%|                             | 0/15 [00:04<?, ?it/s]\u001b[A\n",
      "CapsGNN (Loss=3.9943):   7%|█▍                   | 1/15 [00:04<01:00,  4.34s/it]\u001b[A\n",
      "CapsGNN (Loss=3.9399):   7%|█▍                   | 1/15 [00:05<01:00,  4.34s/it]\u001b[A\n",
      "CapsGNN (Loss=3.9399):  13%|██▊                  | 2/15 [00:05<00:28,  2.19s/it]\u001b[A\n",
      "CapsGNN (Loss=3.965):  13%|██▉                   | 2/15 [00:05<00:28,  2.19s/it]\u001b[A\n",
      "CapsGNN (Loss=3.965):  20%|████▍                 | 3/15 [00:05<00:18,  1.51s/it]\u001b[A\n",
      "CapsGNN (Loss=3.9389):  20%|████▏                | 3/15 [00:06<00:18,  1.51s/it]\u001b[A\n",
      "CapsGNN (Loss=3.9389):  27%|█████▌               | 4/15 [00:06<00:13,  1.19s/it]\u001b[A\n",
      "CapsGNN (Loss=3.9366):  27%|█████▌               | 4/15 [00:07<00:13,  1.19s/it]\u001b[A\n",
      "CapsGNN (Loss=3.9366):  33%|███████              | 5/15 [00:07<00:10,  1.01s/it]\u001b[A\n",
      "CapsGNN (Loss=3.9702):  33%|███████              | 5/15 [00:07<00:10,  1.01s/it]\u001b[A\n",
      "CapsGNN (Loss=3.9702):  40%|████████▍            | 6/15 [00:07<00:08,  1.10it/s]\u001b[A\n",
      "CapsGNN (Loss=3.8304):  40%|████████▍            | 6/15 [00:08<00:08,  1.10it/s]\u001b[A\n",
      "CapsGNN (Loss=3.8304):  47%|█████████▊           | 7/15 [00:08<00:06,  1.20it/s]\u001b[A\n",
      "CapsGNN (Loss=3.742):  47%|██████████▎           | 7/15 [00:09<00:06,  1.20it/s]\u001b[A\n",
      "CapsGNN (Loss=3.742):  53%|███████████▋          | 8/15 [00:09<00:05,  1.24it/s]\u001b[A\n",
      "CapsGNN (Loss=3.6179):  53%|███████████▏         | 8/15 [00:09<00:05,  1.24it/s]\u001b[A\n",
      "CapsGNN (Loss=3.6179):  60%|████████████▌        | 9/15 [00:09<00:04,  1.27it/s]\u001b[A\n",
      "CapsGNN (Loss=3.4794):  60%|████████████▌        | 9/15 [00:10<00:04,  1.27it/s]\u001b[A\n",
      "CapsGNN (Loss=3.4794):  67%|█████████████▎      | 10/15 [00:10<00:03,  1.33it/s]\u001b[A\n",
      "CapsGNN (Loss=3.4024):  67%|█████████████▎      | 10/15 [00:11<00:03,  1.33it/s]\u001b[A\n",
      "CapsGNN (Loss=3.4024):  73%|██████████████▋     | 11/15 [00:11<00:02,  1.36it/s]\u001b[A\n",
      "CapsGNN (Loss=3.3495):  73%|██████████████▋     | 11/15 [00:12<00:02,  1.36it/s]\u001b[A\n",
      "CapsGNN (Loss=3.3495):  80%|████████████████    | 12/15 [00:12<00:02,  1.38it/s]\u001b[A\n",
      "CapsGNN (Loss=3.2791):  80%|████████████████    | 12/15 [00:12<00:02,  1.38it/s]\u001b[A\n",
      "CapsGNN (Loss=3.2791):  87%|█████████████████▎  | 13/15 [00:12<00:01,  1.40it/s]\u001b[A\n",
      "CapsGNN (Loss=3.2109):  87%|█████████████████▎  | 13/15 [00:13<00:01,  1.40it/s]\u001b[A\n",
      "CapsGNN (Loss=3.2109):  93%|██████████████████▋ | 14/15 [00:13<00:00,  1.42it/s]\u001b[A\n",
      "CapsGNN (Loss=3.1574):  93%|██████████████████▋ | 14/15 [00:14<00:00,  1.42it/s]\u001b[A\n",
      "CapsGNN (Loss=3.1574): 100%|████████████████████| 15/15 [00:14<00:00,  1.06it/s]\u001b[A\n",
      "Epochs: 100%|█████████████████████████████████████| 1/1 [00:14<00:00, 14.13s/it]\n",
      "\n",
      "\n",
      "Scoring.\n",
      "\n",
      "100%|█████████████████████████████████████████| 120/120 [00:01<00:00, 82.08it/s]\n",
      "[3 3 3 3 3 3 3 3 3 2 3 2 3 3 3 3 2 2 2 3 2 3 2 3 3 3 3 3 2 3 3 2 3 3 2 3 2\n",
      " 3 3 3 3 3 3 3 3 3 3 2 3 2 3 3 3 3 2 3 3 3 3 3 3 3 3 3 3 3 3 3 3 3 3 3 2 3\n",
      " 3 3 3 3 3 3 3 2 3 3 3 3 3 3 3 3 3 3 3 3 3 3 3 3 3 3 3 3 2 3 3 3 3 3 2 3 3\n",
      " 3 3 3 3 2 3 2 3 3]\n",
      "[2, 2, 2, 2, 2, 2, 2, 2, 2, 2, 2, 2, 2, 2, 2, 2, 2, 2, 2, 2, 2, 2, 2, 2, 2, 2, 2, 2, 2, 2, 2, 2, 2, 2, 2, 2, 2, 2, 2, 2, 2, 2, 2, 2, 2, 2, 2, 2, 2, 2, 2, 2, 2, 2, 2, 2, 2, 2, 2, 2, 2, 2, 2, 2, 2, 2, 2, 2, 2, 2, 2, 2, 2, 2, 2, 2, 2, 2, 2, 2, 2, 2, 2, 2, 2, 2, 2, 2, 2, 2, 2, 2, 2, 2, 2, 2, 2, 2, 2, 2, 2, 2, 2, 2, 2, 2, 2, 2, 2, 2, 2, 2, 2, 2, 2, 2, 2, 2, 2, 2] [array([0., 0., 0., 1., 0., 0.], dtype=float32), array([0., 0., 0., 1., 0., 0.], dtype=float32), array([0., 0., 0., 1., 0., 0.], dtype=float32), array([0., 0., 0., 1., 0., 0.], dtype=float32), array([0., 0., 0., 1., 0., 0.], dtype=float32), array([0., 0., 0., 1., 0., 0.], dtype=float32), array([0., 0., 0., 1., 0., 0.], dtype=float32), array([0., 0., 0., 1., 0., 0.], dtype=float32), array([0., 0., 0., 1., 0., 0.], dtype=float32), array([0., 0., 1., 0., 0., 0.], dtype=float32), array([0., 0., 0., 1., 0., 0.], dtype=float32), array([0., 0., 1., 0., 0., 0.], dtype=float32), array([0., 0., 0., 1., 0., 0.], dtype=float32), array([0., 0., 0., 1., 0., 0.], dtype=float32), array([0., 0., 0., 1., 0., 0.], dtype=float32), array([0., 0., 0., 1., 0., 0.], dtype=float32), array([0., 0., 1., 0., 0., 0.], dtype=float32), array([0., 0., 1., 0., 0., 0.], dtype=float32), array([0., 0., 1., 0., 0., 0.], dtype=float32), array([0., 0., 0., 1., 0., 0.], dtype=float32), array([0., 0., 1., 0., 0., 0.], dtype=float32), array([0., 0., 0., 1., 0., 0.], dtype=float32), array([0., 0., 1., 0., 0., 0.], dtype=float32), array([0., 0., 0., 1., 0., 0.], dtype=float32), array([0., 0., 0., 1., 0., 0.], dtype=float32), array([0., 0., 0., 1., 0., 0.], dtype=float32), array([0., 0., 0., 1., 0., 0.], dtype=float32), array([0., 0., 0., 1., 0., 0.], dtype=float32), array([0., 0., 1., 0., 0., 0.], dtype=float32), array([0., 0., 0., 1., 0., 0.], dtype=float32), array([0., 0., 0., 1., 0., 0.], dtype=float32), array([0., 0., 1., 0., 0., 0.], dtype=float32), array([0., 0., 0., 1., 0., 0.], dtype=float32), array([0., 0., 0., 1., 0., 0.], dtype=float32), array([0., 0., 1., 0., 0., 0.], dtype=float32), array([0., 0., 0., 1., 0., 0.], dtype=float32), array([0., 0., 1., 0., 0., 0.], dtype=float32), array([0., 0., 0., 1., 0., 0.], dtype=float32), array([0., 0., 0., 1., 0., 0.], dtype=float32), array([0., 0., 0., 1., 0., 0.], dtype=float32), array([0., 0., 0., 1., 0., 0.], dtype=float32), array([0., 0., 0., 1., 0., 0.], dtype=float32), array([0., 0., 0., 1., 0., 0.], dtype=float32), array([0., 0., 0., 1., 0., 0.], dtype=float32), array([0., 0., 0., 1., 0., 0.], dtype=float32), array([0., 0., 0., 1., 0., 0.], dtype=float32), array([0., 0., 0., 1., 0., 0.], dtype=float32), array([0., 0., 1., 0., 0., 0.], dtype=float32), array([0., 0., 0., 1., 0., 0.], dtype=float32), array([0., 0., 1., 0., 0., 0.], dtype=float32), array([0., 0., 0., 1., 0., 0.], dtype=float32), array([0., 0., 0., 1., 0., 0.], dtype=float32), array([0., 0., 0., 1., 0., 0.], dtype=float32), array([0., 0., 0., 1., 0., 0.], dtype=float32), array([0., 0., 1., 0., 0., 0.], dtype=float32), array([0., 0., 0., 1., 0., 0.], dtype=float32), array([0., 0., 0., 1., 0., 0.], dtype=float32), array([0., 0., 0., 1., 0., 0.], dtype=float32), array([0., 0., 0., 1., 0., 0.], dtype=float32), array([0., 0., 0., 1., 0., 0.], dtype=float32), array([0., 0., 0., 1., 0., 0.], dtype=float32), array([0., 0., 0., 1., 0., 0.], dtype=float32), array([0., 0., 0., 1., 0., 0.], dtype=float32), array([0., 0., 0., 1., 0., 0.], dtype=float32), array([0., 0., 0., 1., 0., 0.], dtype=float32), array([0., 0., 0., 1., 0., 0.], dtype=float32), array([0., 0., 0., 1., 0., 0.], dtype=float32), array([0., 0., 0., 1., 0., 0.], dtype=float32), array([0., 0., 0., 1., 0., 0.], dtype=float32), array([0., 0., 0., 1., 0., 0.], dtype=float32), array([0., 0., 0., 1., 0., 0.], dtype=float32), array([0., 0., 0., 1., 0., 0.], dtype=float32), array([0., 0., 1., 0., 0., 0.], dtype=float32), array([0., 0., 0., 1., 0., 0.], dtype=float32), array([0., 0., 0., 1., 0., 0.], dtype=float32), array([0., 0., 0., 1., 0., 0.], dtype=float32), array([0., 0., 0., 1., 0., 0.], dtype=float32), array([0., 0., 0., 1., 0., 0.], dtype=float32), array([0., 0., 0., 1., 0., 0.], dtype=float32), array([0., 0., 0., 1., 0., 0.], dtype=float32), array([0., 0., 0., 1., 0., 0.], dtype=float32), array([0., 0., 1., 0., 0., 0.], dtype=float32), array([0., 0., 0., 1., 0., 0.], dtype=float32), array([0., 0., 0., 1., 0., 0.], dtype=float32), array([0., 0., 0., 1., 0., 0.], dtype=float32), array([0., 0., 0., 1., 0., 0.], dtype=float32), array([0., 0., 0., 1., 0., 0.], dtype=float32), array([0., 0., 0., 1., 0., 0.], dtype=float32), array([0., 0., 0., 1., 0., 0.], dtype=float32), array([0., 0., 0., 1., 0., 0.], dtype=float32), array([0., 0., 0., 1., 0., 0.], dtype=float32), array([0., 0., 0., 1., 0., 0.], dtype=float32), array([0., 0., 0., 1., 0., 0.], dtype=float32), array([0., 0., 0., 1., 0., 0.], dtype=float32), array([0., 0., 0., 1., 0., 0.], dtype=float32), array([0., 0., 0., 1., 0., 0.], dtype=float32), array([0., 0., 0., 1., 0., 0.], dtype=float32), array([0., 0., 0., 1., 0., 0.], dtype=float32), array([0., 0., 0., 1., 0., 0.], dtype=float32), array([0., 0., 0., 1., 0., 0.], dtype=float32), array([0., 0., 0., 1., 0., 0.], dtype=float32), array([0., 0., 0., 1., 0., 0.], dtype=float32), array([0., 0., 1., 0., 0., 0.], dtype=float32), array([0., 0., 0., 1., 0., 0.], dtype=float32), array([0., 0., 0., 1., 0., 0.], dtype=float32), array([0., 0., 0., 1., 0., 0.], dtype=float32), array([0., 0., 0., 1., 0., 0.], dtype=float32), array([0., 0., 0., 1., 0., 0.], dtype=float32), array([0., 0., 1., 0., 0., 0.], dtype=float32), array([0., 0., 0., 1., 0., 0.], dtype=float32), array([0., 0., 0., 1., 0., 0.], dtype=float32), array([0., 0., 0., 1., 0., 0.], dtype=float32), array([0., 0., 0., 1., 0., 0.], dtype=float32), array([0., 0., 0., 1., 0., 0.], dtype=float32), array([0., 0., 0., 1., 0., 0.], dtype=float32), array([0., 0., 1., 0., 0., 0.], dtype=float32), array([0., 0., 0., 1., 0., 0.], dtype=float32), array([0., 0., 1., 0., 0., 0.], dtype=float32), array([0., 0., 0., 1., 0., 0.], dtype=float32), array([0., 0., 0., 1., 0., 0.], dtype=float32)]\n",
      "Traceback (most recent call last):\n",
      "  File \"/mnt/beegfs/projects/parkinson_gait/M2_DS_22_23/CapsGNN/src/main.py\", line 19, in <module>\n",
      "    main()\n",
      "  File \"/mnt/beegfs/projects/parkinson_gait/M2_DS_22_23/CapsGNN/src/main.py\", line 15, in main\n",
      "    model.score()\n",
      "  File \"/mnt/beegfs/projects/parkinson_gait/M2_DS_22_23/CapsGNN/src/capsgnn.py\", line 327, in score\n",
      "    print(\"\\nAccuracy: \" + str((np.array(self.predictions) == np.array(self.targets)).sum()/len(self.targets)))\n",
      "AttributeError: 'bool' object has no attribute 'sum'\n"
     ]
    }
   ],
   "source": [
    "!python main.py --train-graph-folder ../input_enzymes/train/ --test-graph-folder ../input_enzymes/test/ --prediction-path ../output/out_enzymes.csv --number-of-capsules 8 --learning-rate 0.01 --epochs 1 --batch-size 32 --gcn-filters 2 --gcn-layers 5"
   ]
  }
 ],
 "metadata": {
  "kernelspec": {
   "display_name": "Python 3 (ipykernel)",
   "language": "python",
   "name": "python3"
  },
  "language_info": {
   "codemirror_mode": {
    "name": "ipython",
    "version": 3
   },
   "file_extension": ".py",
   "mimetype": "text/x-python",
   "name": "python",
   "nbconvert_exporter": "python",
   "pygments_lexer": "ipython3",
   "version": "3.10.8"
  }
 },
 "nbformat": 4,
 "nbformat_minor": 5
}
