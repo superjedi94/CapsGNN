{
 "cells": [
  {
   "cell_type": "code",
   "execution_count": 2,
   "metadata": {},
   "outputs": [
    {
     "name": "stdout",
     "output_type": "stream",
     "text": [
      "Collecting torch\n",
      "  Downloading torch-2.0.0-cp39-cp39-win_amd64.whl (172.3 MB)\n",
      "     -------------------------------------- 172.3/172.3 MB 1.8 MB/s eta 0:00:00\n",
      "Requirement already satisfied: sympy in c:\\users\\remih\\anaconda3\\lib\\site-packages (from torch) (1.10.1)\n",
      "Requirement already satisfied: jinja2 in c:\\users\\remih\\anaconda3\\lib\\site-packages (from torch) (2.11.3)\n",
      "Requirement already satisfied: filelock in c:\\users\\remih\\anaconda3\\lib\\site-packages (from torch) (3.6.0)\n",
      "Requirement already satisfied: typing-extensions in c:\\users\\remih\\anaconda3\\lib\\site-packages (from torch) (4.3.0)\n",
      "Requirement already satisfied: networkx in c:\\users\\remih\\anaconda3\\lib\\site-packages (from torch) (2.8.4)\n",
      "Requirement already satisfied: MarkupSafe>=0.23 in c:\\users\\remih\\anaconda3\\lib\\site-packages (from jinja2->torch) (2.0.1)\n",
      "Requirement already satisfied: mpmath>=0.19 in c:\\users\\remih\\anaconda3\\lib\\site-packages (from sympy->torch) (1.2.1)\n",
      "Installing collected packages: torch\n",
      "Successfully installed torch-2.0.0\n"
     ]
    }
   ],
   "source": [
    "!pip install torch"
   ]
  },
  {
   "cell_type": "code",
   "execution_count": 3,
   "metadata": {},
   "outputs": [
    {
     "name": "stdout",
     "output_type": "stream",
     "text": [
      "PyTorch has version 2.0.0+cpu\n"
     ]
    }
   ],
   "source": [
    "import torch\n",
    "import os\n",
    "print(\"PyTorch has version {}\".format(torch.__version__))"
   ]
  },
  {
   "cell_type": "code",
   "execution_count": 4,
   "metadata": {},
   "outputs": [
    {
     "name": "stdout",
     "output_type": "stream",
     "text": [
      "Looking in links: https://pytorch-geometric.com/whl/torch-1.13.1+cu116.html\n",
      "Collecting torch-scatter\n",
      "  Downloading https://data.pyg.org/whl/torch-1.13.0%2Bcu116/torch_scatter-2.1.1%2Bpt113cu116-cp39-cp39-win_amd64.whl (3.6 MB)\n",
      "     ---------------------------------------- 3.6/3.6 MB 964.1 kB/s eta 0:00:00\n",
      "Installing collected packages: torch-scatter\n",
      "Successfully installed torch-scatter-2.1.1+pt113cu116\n",
      "Looking in links: https://pytorch-geometric.com/whl/torch-1.13.1+cu116.html\n",
      "Collecting torch-sparse\n",
      "  Downloading https://data.pyg.org/whl/torch-1.13.0%2Bcu116/torch_sparse-0.6.17%2Bpt113cu116-cp39-cp39-win_amd64.whl (2.9 MB)\n",
      "     ---------------------------------------- 2.9/2.9 MB 1.9 MB/s eta 0:00:00\n",
      "Requirement already satisfied: scipy in c:\\users\\remih\\anaconda3\\lib\\site-packages (from torch-sparse) (1.9.1)\n",
      "Requirement already satisfied: numpy<1.25.0,>=1.18.5 in c:\\users\\remih\\anaconda3\\lib\\site-packages (from scipy->torch-sparse) (1.21.5)\n",
      "Installing collected packages: torch-sparse\n",
      "Successfully installed torch-sparse-0.6.17+pt113cu116\n",
      "Collecting torch-geometric\n",
      "  Downloading torch_geometric-2.3.0.tar.gz (616 kB)\n",
      "     -------------------------------------- 616.2/616.2 kB 3.0 MB/s eta 0:00:00\n",
      "  Installing build dependencies: started\n",
      "  Installing build dependencies: finished with status 'done'\n",
      "  Getting requirements to build wheel: started\n",
      "  Getting requirements to build wheel: finished with status 'done'\n",
      "  Preparing metadata (pyproject.toml): started\n",
      "  Preparing metadata (pyproject.toml): finished with status 'done'\n",
      "Requirement already satisfied: tqdm in c:\\users\\remih\\anaconda3\\lib\\site-packages (from torch-geometric) (4.64.1)\n",
      "Requirement already satisfied: jinja2 in c:\\users\\remih\\anaconda3\\lib\\site-packages (from torch-geometric) (2.11.3)\n",
      "Requirement already satisfied: psutil>=5.8.0 in c:\\users\\remih\\anaconda3\\lib\\site-packages (from torch-geometric) (5.9.0)\n",
      "Requirement already satisfied: scipy in c:\\users\\remih\\anaconda3\\lib\\site-packages (from torch-geometric) (1.9.1)\n",
      "Requirement already satisfied: scikit-learn in c:\\users\\remih\\anaconda3\\lib\\site-packages (from torch-geometric) (1.0.2)\n",
      "Requirement already satisfied: requests in c:\\users\\remih\\anaconda3\\lib\\site-packages (from torch-geometric) (2.28.1)\n",
      "Requirement already satisfied: numpy in c:\\users\\remih\\anaconda3\\lib\\site-packages (from torch-geometric) (1.21.5)\n",
      "Requirement already satisfied: pyparsing in c:\\users\\remih\\anaconda3\\lib\\site-packages (from torch-geometric) (3.0.9)\n",
      "Requirement already satisfied: MarkupSafe>=0.23 in c:\\users\\remih\\anaconda3\\lib\\site-packages (from jinja2->torch-geometric) (2.0.1)\n",
      "Requirement already satisfied: charset-normalizer<3,>=2 in c:\\users\\remih\\anaconda3\\lib\\site-packages (from requests->torch-geometric) (2.0.4)\n",
      "Requirement already satisfied: idna<4,>=2.5 in c:\\users\\remih\\anaconda3\\lib\\site-packages (from requests->torch-geometric) (3.3)\n",
      "Requirement already satisfied: certifi>=2017.4.17 in c:\\users\\remih\\anaconda3\\lib\\site-packages (from requests->torch-geometric) (2022.9.14)\n",
      "Requirement already satisfied: urllib3<1.27,>=1.21.1 in c:\\users\\remih\\anaconda3\\lib\\site-packages (from requests->torch-geometric) (1.26.11)\n",
      "Requirement already satisfied: joblib>=0.11 in c:\\users\\remih\\anaconda3\\lib\\site-packages (from scikit-learn->torch-geometric) (1.1.0)\n",
      "Requirement already satisfied: threadpoolctl>=2.0.0 in c:\\users\\remih\\anaconda3\\lib\\site-packages (from scikit-learn->torch-geometric) (2.2.0)\n",
      "Requirement already satisfied: colorama in c:\\users\\remih\\anaconda3\\lib\\site-packages (from tqdm->torch-geometric) (0.4.5)\n",
      "Building wheels for collected packages: torch-geometric\n",
      "  Building wheel for torch-geometric (pyproject.toml): started\n",
      "  Building wheel for torch-geometric (pyproject.toml): finished with status 'done'\n",
      "  Created wheel for torch-geometric: filename=torch_geometric-2.3.0-py3-none-any.whl size=909920 sha256=ad38987a5902143681ea50535423889927af33d6438fe3fdbee6dc9e88e6c2d8\n",
      "  Stored in directory: c:\\users\\remih\\appdata\\local\\pip\\cache\\wheels\\cd\\7d\\6b\\17150450b80b4a3656a84330e22709ccd8dc0f8f4773ba4133\n",
      "Successfully built torch-geometric\n",
      "Installing collected packages: torch-geometric\n",
      "Successfully installed torch-geometric-2.3.0\n",
      "Collecting ogb\n",
      "  Downloading ogb-1.3.5-py3-none-any.whl (78 kB)\n",
      "     ---------------------------------------- 78.6/78.6 kB 1.5 MB/s eta 0:00:00\n",
      "Requirement already satisfied: six>=1.12.0 in c:\\users\\remih\\anaconda3\\lib\\site-packages (from ogb) (1.16.0)\n",
      "Requirement already satisfied: numpy>=1.16.0 in c:\\users\\remih\\anaconda3\\lib\\site-packages (from ogb) (1.21.5)\n",
      "Requirement already satisfied: torch>=1.6.0 in c:\\users\\remih\\anaconda3\\lib\\site-packages (from ogb) (2.0.0)\n",
      "Requirement already satisfied: urllib3>=1.24.0 in c:\\users\\remih\\anaconda3\\lib\\site-packages (from ogb) (1.26.11)\n",
      "Requirement already satisfied: tqdm>=4.29.0 in c:\\users\\remih\\anaconda3\\lib\\site-packages (from ogb) (4.64.1)\n",
      "Collecting outdated>=0.2.0\n",
      "  Downloading outdated-0.2.2-py2.py3-none-any.whl (7.5 kB)\n",
      "Requirement already satisfied: scikit-learn>=0.20.0 in c:\\users\\remih\\anaconda3\\lib\\site-packages (from ogb) (1.0.2)\n",
      "Requirement already satisfied: pandas>=0.24.0 in c:\\users\\remih\\anaconda3\\lib\\site-packages (from ogb) (1.4.4)\n",
      "Collecting littleutils\n",
      "  Downloading littleutils-0.2.2.tar.gz (6.6 kB)\n",
      "  Preparing metadata (setup.py): started\n",
      "  Preparing metadata (setup.py): finished with status 'done'\n",
      "Requirement already satisfied: requests in c:\\users\\remih\\anaconda3\\lib\\site-packages (from outdated>=0.2.0->ogb) (2.28.1)\n",
      "Requirement already satisfied: setuptools>=44 in c:\\users\\remih\\anaconda3\\lib\\site-packages (from outdated>=0.2.0->ogb) (63.4.1)\n",
      "Requirement already satisfied: python-dateutil>=2.8.1 in c:\\users\\remih\\anaconda3\\lib\\site-packages (from pandas>=0.24.0->ogb) (2.8.2)\n",
      "Requirement already satisfied: pytz>=2020.1 in c:\\users\\remih\\anaconda3\\lib\\site-packages (from pandas>=0.24.0->ogb) (2022.1)\n",
      "Requirement already satisfied: joblib>=0.11 in c:\\users\\remih\\anaconda3\\lib\\site-packages (from scikit-learn>=0.20.0->ogb) (1.1.0)\n",
      "Requirement already satisfied: threadpoolctl>=2.0.0 in c:\\users\\remih\\anaconda3\\lib\\site-packages (from scikit-learn>=0.20.0->ogb) (2.2.0)\n",
      "Requirement already satisfied: scipy>=1.1.0 in c:\\users\\remih\\anaconda3\\lib\\site-packages (from scikit-learn>=0.20.0->ogb) (1.9.1)\n",
      "Requirement already satisfied: jinja2 in c:\\users\\remih\\anaconda3\\lib\\site-packages (from torch>=1.6.0->ogb) (2.11.3)\n",
      "Requirement already satisfied: filelock in c:\\users\\remih\\anaconda3\\lib\\site-packages (from torch>=1.6.0->ogb) (3.6.0)\n",
      "Requirement already satisfied: sympy in c:\\users\\remih\\anaconda3\\lib\\site-packages (from torch>=1.6.0->ogb) (1.10.1)\n",
      "Requirement already satisfied: typing-extensions in c:\\users\\remih\\anaconda3\\lib\\site-packages (from torch>=1.6.0->ogb) (4.3.0)\n",
      "Requirement already satisfied: networkx in c:\\users\\remih\\anaconda3\\lib\\site-packages (from torch>=1.6.0->ogb) (2.8.4)\n",
      "Requirement already satisfied: colorama in c:\\users\\remih\\anaconda3\\lib\\site-packages (from tqdm>=4.29.0->ogb) (0.4.5)\n",
      "Requirement already satisfied: MarkupSafe>=0.23 in c:\\users\\remih\\anaconda3\\lib\\site-packages (from jinja2->torch>=1.6.0->ogb) (2.0.1)\n",
      "Requirement already satisfied: certifi>=2017.4.17 in c:\\users\\remih\\anaconda3\\lib\\site-packages (from requests->outdated>=0.2.0->ogb) (2022.9.14)\n",
      "Requirement already satisfied: charset-normalizer<3,>=2 in c:\\users\\remih\\anaconda3\\lib\\site-packages (from requests->outdated>=0.2.0->ogb) (2.0.4)\n",
      "Requirement already satisfied: idna<4,>=2.5 in c:\\users\\remih\\anaconda3\\lib\\site-packages (from requests->outdated>=0.2.0->ogb) (3.3)\n",
      "Requirement already satisfied: mpmath>=0.19 in c:\\users\\remih\\anaconda3\\lib\\site-packages (from sympy->torch>=1.6.0->ogb) (1.2.1)\n",
      "Building wheels for collected packages: littleutils\n",
      "  Building wheel for littleutils (setup.py): started\n",
      "  Building wheel for littleutils (setup.py): finished with status 'done'\n",
      "  Created wheel for littleutils: filename=littleutils-0.2.2-py3-none-any.whl size=7028 sha256=43d8bc59894e16dcac7dae956698550a85a38b579494420cdc954def6ea80ef0\n",
      "  Stored in directory: c:\\users\\remih\\appdata\\local\\pip\\cache\\wheels\\04\\bb\\0d\\2d02ec45f29c48d6192476bfb59c5a0e64b605e7212374dd15\n",
      "Successfully built littleutils\n",
      "Installing collected packages: littleutils, outdated, ogb\n",
      "Successfully installed littleutils-0.2.2 ogb-1.3.5 outdated-0.2.2\n"
     ]
    }
   ],
   "source": [
    "# Install torch geometric\n",
    "if 'IS_GRADESCOPE_ENV' not in os.environ:\n",
    "  !pip install torch-scatter -f https://pytorch-geometric.com/whl/torch-1.13.1+cu116.html\n",
    "  !pip install torch-sparse -f https://pytorch-geometric.com/whl/torch-1.13.1+cu116.html\n",
    "  !pip install torch-geometric\n",
    "  !pip install ogb"
   ]
  },
  {
   "cell_type": "code",
   "execution_count": 5,
   "metadata": {},
   "outputs": [
    {
     "name": "stderr",
     "output_type": "stream",
     "text": [
      "c:\\Users\\remih\\anaconda3\\lib\\site-packages\\torch_geometric\\typing.py:31: UserWarning: An issue occurred while importing 'torch-scatter'. Disabling its usage. Stacktrace: Could not find module 'C:\\Users\\remih\\anaconda3\\Lib\\site-packages\\torch_scatter\\_scatter_cuda.pyd' (or one of its dependencies). Try using the full path with constructor syntax.\n",
      "  warnings.warn(f\"An issue occurred while importing 'torch-scatter'. \"\n",
      "c:\\Users\\remih\\anaconda3\\lib\\site-packages\\torch_geometric\\typing.py:42: UserWarning: An issue occurred while importing 'torch-sparse'. Disabling its usage. Stacktrace: Could not find module 'C:\\Users\\remih\\anaconda3\\Lib\\site-packages\\torch_sparse\\_convert_cuda.pyd' (or one of its dependencies). Try using the full path with constructor syntax.\n",
      "  warnings.warn(f\"An issue occurred while importing 'torch-sparse'. \"\n",
      "Downloading https://www.chrsmrrs.com/graphkerneldatasets/ENZYMES.zip\n",
      "Extracting enzymes\\ENZYMES\\ENZYMES.zip\n",
      "Processing...\n"
     ]
    },
    {
     "name": "stdout",
     "output_type": "stream",
     "text": [
      "ENZYMES(600)\n"
     ]
    },
    {
     "name": "stderr",
     "output_type": "stream",
     "text": [
      "Done!\n"
     ]
    }
   ],
   "source": [
    "from torch_geometric.datasets import TUDataset\n",
    "\n",
    "if 'IS_GRADESCOPE_ENV' not in os.environ:\n",
    "  root = './enzymes'\n",
    "  name = 'ENZYMES'\n",
    "\n",
    "  # The ENZYMES dataset\n",
    "  pyg_dataset= TUDataset(root, name)\n",
    "\n",
    "  # You will find that there are 600 graphs in this dataset\n",
    "  print(pyg_dataset)"
   ]
  },
  {
   "cell_type": "code",
   "execution_count": 7,
   "metadata": {},
   "outputs": [],
   "source": [
    "import numpy as np\n",
    "import json"
   ]
  },
  {
   "cell_type": "code",
   "execution_count": 13,
   "metadata": {},
   "outputs": [],
   "source": [
    "for i in range(600):\n",
    "    edges = pyg_dataset[i].edge_index.T.tolist()\n",
    "    target = int(pyg_dataset[i].y)\n",
    "    L1 = [str(x) for x in range(len(pyg_dataset[i].x))]\n",
    "    L2 = np.char.mod('%d',torch.argmax(pyg_dataset[i].x, axis=1).numpy())\n",
    "    labels = dict(zip(L1 , L2))\n",
    "    dic = {\"edges\":edges, \"target\": target, \"label\":labels}\n",
    "    name = './data_enzymes/'+str(i)+'.json'\n",
    "    with open(name, \"w\") as outfile:\n",
    "        json.dump(dic, outfile)"
   ]
  },
  {
   "cell_type": "code",
   "execution_count": null,
   "metadata": {},
   "outputs": [],
   "source": []
  }
 ],
 "metadata": {
  "kernelspec": {
   "display_name": "base",
   "language": "python",
   "name": "python3"
  },
  "language_info": {
   "codemirror_mode": {
    "name": "ipython",
    "version": 3
   },
   "file_extension": ".py",
   "mimetype": "text/x-python",
   "name": "python",
   "nbconvert_exporter": "python",
   "pygments_lexer": "ipython3",
   "version": "3.9.13"
  },
  "orig_nbformat": 4
 },
 "nbformat": 4,
 "nbformat_minor": 2
}
